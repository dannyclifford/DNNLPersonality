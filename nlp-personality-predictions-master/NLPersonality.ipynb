{
 "cells": [
  {
   "cell_type": "markdown",
   "metadata": {},
   "source": [
    "Capstone Project\n",
    "Danny Clifford\n",
    "December 31st, 2050\n",
    "\n",
    "\n",
    "# I. Definition\n",
    "\n",
    "### Project Overview\n",
    "\n",
    "With much better memory than people and the amount of personal information we share with computers, it's amazing they don't appear to understand our personalities better.  With the exceptions of saving searches and some companies using AI and machine learning to predict profitability for advertisements, there is little effort to understand personal tendencies to cater content for (and not just to) individuals. Even those multibillion dollar corporations aim to maximize advertisment profit, not to understand the fundamental features that make each of us unique.  \n",
    "\n",
    "Understanding what connects us all, what makes each of us unique, what are our strengths and how can we harness everyone's strengths to build better lives for individuals and humanity, seem's far from the focus of their efforts.  For the first time in history, we are able to economically collect and process enough information to understand the patterns of human nature.  There have been good attempts in recent history of distinguishing the features of human processing that make certain people different than others, most notably Carl Jung in his book Psychological Types and the subsequent adaptation of his theories to the Myers Briggs Personality Index.  \n",
    "\n",
    "Carl Jung notes that it is difficult for a person who experiences their own bias to accurately judge others, joking that one person creating a system would be like creating a Universal Church with one member.  Luckily, since his time wonderful scientists such as Alan Turing, John von Neumann, J.C.R. Licklider, Miller, Moore, Noyce, and countless other have made it incredibly easy to collect, share, and calculate data from around the world almost instantly, not to mention make impressive improvements on models of understanding how agents behave.  With the addition of breakthroughs in behavioral psychology by greats like Kahnemann, Tversky, and Thaler, we are quickly building the ability to study the patterns of reason and thought in humans as differentiated by the rational agents which traditional economic theory implies.\n",
    "\n",
    "Putting these pieces together, as we communicate with computers and people, we are creating valuable information and patterns that, if only captured and studied, would give great insight into how our individual and collective minds work.  This project is about helping computers understand how the patterns in our language reflect our inner personality and in turn how we recieve, process, and communicate information.  Ultimately, computers can be our tools to help us learn our unique patterns and to help us change, supplement, or leverage how we do things to help us achieve our goals.\n",
    "\n",
    "### Problem Statement\n",
    "    \n",
    "The problem that I am setting out to solve is how to understand someone's personality based on their use of language.  If we can accurately predict one of the most fundamental aspects of a person’s behavior and uniqueness based off the language they use, the ability to communicate information to that person will be drastically improved.  The internet is designed based on information that is already programmed into the web page itself; for example, administrators see a website much differently as a new customer or even a logged in user and are determined prior to visiting the webpage. This poses a difficult design problem for web designers to incorporate designs that maximize the profit or usefulness to their intended audience rather than communicating information or value to a person on an individual basis.  If we can predict learning style or how an individual will react to their environment, then we can better customize the learning experience to their preference. \n",
    "    \n",
    "Quantifying personality has been done for us with the Myers Brigg Personality Index 4 letter code. These will be further broken down into their 4 features of a single letter with only 2 options, making it a binary choice and easy to encode the data.  In addition, it will also allow us to train the weights of determining individual features of personality in a more focused way. NLP allows algorithms to extract meaning from text whether from word count, frequency, and even parts of speech in a quantifiable and measurable way. These matrices of language data will be learned by a Neural Network and these patterns during training will be used to predict the personality features of the test group.  \n",
    "\n",
    "1. Download the data from Kaggle\n",
    "2. Let SpaCy web-medium run through the posts to make word vectors\n",
    "3. Shuffle-Split the data into testing validation and training data.\n",
    "4. Run benchmarks training and testing with Logistic Regression, Random Forest, and MLP Classifiers\n",
    "5. Run training and validation through the CNN\n",
    "5. Test accuracy of the model on the test set with AUC\n",
    "    \n",
    "    \n",
    "### Metrics\n",
    "\n",
    "Training a neural network on language use and their corresponding personality feature labels allows us to measure the AUC.  Area under the ROC curve is used to ensure the proper binary classification when it comes to specificity and sensitivity. This will help better quantify individual differences in each of the 4 personality features. Wang uses AUC in order to quantify and measure accuracy of a model.  Since the distribution of personalities within the dataset is skewed in both our datasets, this will be a good evaluation metric to use.  He also measured accuracy by comparing different models based on the features mentioned above based on AUC, not only breaking them down into dichotomous features (Sensing and Intuitive, Extrovert and Introvert), but also by focusing on features of the language.  His best individual feature was average word vectors with an AUC of 0.651, which represents this model’s ability to predict all 4 of the dichotomous personality traits.\n",
    "    "
   ]
  },
  {
   "cell_type": "markdown",
   "metadata": {},
   "source": [
    "# II. Analysis\n",
    "\n",
    "### Data Exploration\n",
    "\n",
    "The dataset is taken from Kaggle and contains 8,600 users with 50 recent comments on the Kaggle website each and their corresponding personality type.  This was user generated data from the Kaggle website and offers the most labeled personality data connected to their text data (comments) of what I could find online. "
   ]
  },
  {
   "cell_type": "code",
   "execution_count": 3,
   "metadata": {},
   "outputs": [
    {
     "name": "stdout",
     "output_type": "stream",
     "text": [
      "   type                                              posts\n",
      "0  INFJ  'http://www.youtube.com/watch?v=qsXHcwe3krw|||...\n",
      "1  ENTP  'I'm finding the lack of me in these posts ver...\n",
      "2  INTP  'Good one  _____   https://www.youtube.com/wat...\n",
      "3  INTJ  'Dear INTP,   I enjoyed our conversation the o...\n",
      "4  ENTJ  'You're fired.|||That's another silly misconce...\n"
     ]
    }
   ],
   "source": [
    "import pandas as pd\n",
    "import numpy as np\n",
    "import seaborn as sns\n",
    "import matplotlib.pyplot as plt\n",
    "\n",
    "# import the excel document with the results\n",
    "# save it as a panda's dataframe and call it data\n",
    "data = pd.read_csv('raw/mbti_1.csv')\n",
    "\n",
    "# print out a summary of the first 5 people to make sure it worked\n",
    "print(data.head())"
   ]
  },
  {
   "cell_type": "markdown",
   "metadata": {},
   "source": [
    "This is the first 5 entries of the Kaggle dataset. It comes with a 4 letter code called 'type' which is the person's peronality archetype according to their test results from the Myers Briggs Personality Index. Under 'posts' is a string of their most recent 50 posts on Kaggle.com separated by |||. \n",
    "\n",
    "Below is a look at the first person's entire corpus of text that we can learn from in raw form. In Data Preprocessing we will remove the links and ||| along with creating a bag of words that a the person uses that we can compare to other people and personality types."
   ]
  },
  {
   "cell_type": "code",
   "execution_count": 4,
   "metadata": {},
   "outputs": [
    {
     "name": "stdout",
     "output_type": "stream",
     "text": [
      "'http://www.youtube.com/watch?v=qsXHcwe3krw|||http://41.media.tumblr.com/tumblr_lfouy03PMA1qa1rooo1_500.jpg|||enfp and intj moments  https://www.youtube.com/watch?v=iz7lE1g4XM4  sportscenter not top ten plays  https://www.youtube.com/watch?v=uCdfze1etec  pranks|||What has been the most life-changing experience in your life?|||http://www.youtube.com/watch?v=vXZeYwwRDw8   http://www.youtube.com/watch?v=u8ejam5DP3E  On repeat for most of today.|||May the PerC Experience immerse you.|||The last thing my INFJ friend posted on his facebook before committing suicide the next day. Rest in peace~   http://vimeo.com/22842206|||Hello ENFJ7. Sorry to hear of your distress. It's only natural for a relationship to not be perfection all the time in every moment of existence. Try to figure the hard times as times of growth, as...|||84389  84390  http://wallpaperpassion.com/upload/23700/friendship-boy-and-girl-wallpaper.jpg  http://assets.dornob.com/wp-content/uploads/2010/04/round-home-design.jpg ...|||Welcome and stuff.|||http://playeressence.com/wp-content/uploads/2013/08/RED-red-the-pokemon-master-32560474-450-338.jpg  Game. Set. Match.|||Prozac, wellbrutin, at least thirty minutes of moving your legs (and I don't mean moving them while sitting in your same desk chair), weed in moderation (maybe try edibles as a healthier alternative...|||Basically come up with three items you've determined that each type (or whichever types you want to do) would more than likely use, given each types' cognitive functions and whatnot, when left by...|||All things in moderation.  Sims is indeed a video game, and a good one at that. Note: a good one at that is somewhat subjective in that I am not completely promoting the death of any given Sim...|||Dear ENFP:  What were your favorite video games growing up and what are your now, current favorite video games? :cool:|||https://www.youtube.com/watch?v=QyPqT8umzmY|||It appears to be too late. :sad:|||There's someone out there for everyone.|||Wait... I\n"
     ]
    }
   ],
   "source": [
    "print(data.iloc[0]['posts'][:2000])"
   ]
  },
  {
   "cell_type": "markdown",
   "metadata": {},
   "source": [
    "Bag of Words is a way to see how likely people are to use a word or phrase.  In Natural Language Processing (NLP), the likelihood of a word being used can be determined by how often people use the word. The likelihood of a person using a word is therefore in part determined by the similarity to the people who use the word multiplied by the likelihood of the word being said by anyone. If a person is extroverted and extroverts say a word 1% of the time and introverts 0.1% of the time; if that word is said then it is 10x more likely that it came from an extrovert.\n",
    "\n",
    "Using spaCy, \n",
    "\n",
    "Explain POS tagging\n",
    "\n",
    "Explain Weighted Average Word Vectors"
   ]
  },
  {
   "cell_type": "markdown",
   "metadata": {},
   "source": [
    "### Exploratory Visualization\n",
    "\n",
    "The bar graph below shows the distribution of the personality types in the Kaggle database. "
   ]
  },
  {
   "cell_type": "code",
   "execution_count": 5,
   "metadata": {
    "scrolled": true
   },
   "outputs": [
    {
     "data": {
      "image/png": "[encoded data removed]",
      "text/plain": [
       "<Figure size 864x576 with 1 Axes>"
      ]
     },
     "metadata": {},
     "output_type": "display_data"
    }
   ],
   "source": [
    "d = data['type'].value_counts()\n",
    "k = data['type'].value_counts().keys()\n",
    "\n",
    "plt.figure(figsize=(12,8))\n",
    "sns.barplot(d.index, d.values, alpha=0.7)\n",
    "plt.ylabel('Instances', fontsize=12)\n",
    "plt.xlabel('Types', fontsize=12)\n",
    "plt.show()"
   ]
  },
  {
   "cell_type": "markdown",
   "metadata": {},
   "source": [
    "Clearly Introverted and/ or iNtuitive people dominate the Kaggle forums, or at least the ones participating in the creation of the database.  This will make it quite difficult to learn about those who are extroverted and sensing types (ESxx).  The model would likel minimize error by simply never predicting ESxx labels."
   ]
  },
  {
   "cell_type": "code",
   "execution_count": 6,
   "metadata": {},
   "outputs": [],
   "source": [
    "#distribution = {}\n",
    "#actual_series = {}\n",
    "\n",
    "l = float(len(data))\n",
    "actual = [0.044, 0.015, 0.033, 0.021, 0.032, 0.081, 0.054, 0.088, 0.018, 0.116, 0.025, 0.138, 0.043, 0.085, 0.123, 0.087]\n",
    "kaggle = []\n",
    "\n",
    "for i in range(len(d)):\n",
    "    kaggle.append(float(d[i]) / l)\n",
    "\n",
    "keys = d.index.get_values()\n",
    "values = d.get_values()\n"
   ]
  },
  {
   "cell_type": "code",
   "execution_count": 7,
   "metadata": {},
   "outputs": [
    {
     "data": {
      "image/png": "[encoded data removed]",
      "text/plain": [
       "<Figure size 432x288 with 1 Axes>"
      ]
     },
     "metadata": {},
     "output_type": "display_data"
    }
   ],
   "source": [
    "from matplotlib import style \n",
    "\n",
    "fig, ax = plt.subplots(1) \n",
    "fig.autofmt_xdate()\n",
    "index = np.arange(16)\n",
    "bar_width = 7\n",
    "opacity = 0.7\n",
    "\n",
    "kaggle_bar = plt.bar(index*20, kaggle, bar_width,\n",
    "                 alpha=opacity,\n",
    "                 color='b',\n",
    "                 label='Kaggle')\n",
    "actual_bar = plt.bar(index*20 + bar_width, actual, bar_width,\n",
    "                 alpha=opacity,\n",
    "                 color='r',\n",
    "                 label='Actual')\n",
    "\n",
    "plt.xlabel('Personality Type')\n",
    "plt.ylabel('Percentage of Population')\n",
    "plt.title('Comparing Personality Distribution of Kaggle Dataset to the World')\n",
    "plt.xticks(index*20 + bar_width, keys)\n",
    "plt.legend()\n",
    "plt.show()\n",
    "\n"
   ]
  },
  {
   "cell_type": "markdown",
   "metadata": {},
   "source": [
    "The bar graph above compares the percentage of people who belong to each type on the Kaggle database and Myers-Briggs world estimates.  If the data weren't already skewed enough, the people's personalities of this dataset are quite different to the general population.  When it comes to creating a system for understanding personality, the data used to train the model would ideally represent the population of personalities it is trying to understand.\n",
    "\n",
    "Insert Facets"
   ]
  },
  {
   "cell_type": "markdown",
   "metadata": {},
   "source": [
    "### Algorithms and Techniques\n",
    "\n",
    "Preprocessing the data will be the largest part of the technique for predicting the personality of a person based on their text.  There are separating characters (|||) that need to be removed, links that will not show up in language and instead will be converted simply into the word 'link'.  \n",
    "\n",
    "As mentioned in the Data Exploration section above, using the bag of words technique to create word vectors of each personality type's language. Using spaCy's medium web language library to create relative frequencies of common language used online, the result will be a model of language use specific to each personality feature.  In addition, spaCy can find the similarities of new sentences to each corresponding personality and even between personalities.  \n",
    "\n",
    "The classifier is a Convolutional Neural Network, that will run over the language and assign the probability for each class based on their word vector representations and similarities to each personality type.\n",
    "\n",
    "Since the data is quite skewed not only from the population but especially not distributed evenly throughout the personality types, creating a model that will most accurately predict the personality type will likely result in simply guessing the most likely personality features, in this case Introverted and Intuitive (IN).  Tuning the model based on the AUC and series of 4 binary classifications (which coincidentally also makes more sense in the study of personality) allows to create the most potentially useful prediction model and avoid overfitting.  \n",
    "\n",
    "Calculating AUC not only tries to get the most predictions right, but tries to ensure that false positives and false negatives don't crop up.  In other words, since the accuracy metric would tend to create a prediction where everyone is IN__, the AUC metric will catch that the model systematically falsely assigns Extroverts the Introvert label and will look for patterns to help correct it."
   ]
  },
  {
   "cell_type": "markdown",
   "metadata": {},
   "source": [
    "### Benchmark\n",
    "\n",
    "The Benchmark I will be using to predict personality based on the data is a Logistic Regression Algoirthm with 10 fold cross validation, as I am trying to make a similar model to Yilun Wang's in his Understanding Personality through Social Media.\n",
    "\n",
    "\n",
    "\n"
   ]
  },
  {
   "cell_type": "markdown",
   "metadata": {},
   "source": [
    "# III. Methodology\n",
    "\n",
    "### Data Preprocessing\n",
    "\n",
    "(Just upload it from below, this takes a while)"
   ]
  },
  {
   "cell_type": "code",
   "execution_count": 8,
   "metadata": {},
   "outputs": [
    {
     "name": "stdout",
     "output_type": "stream",
     "text": [
      "   type                                              posts\n",
      "0  INFJ  ['http://www.youtube.com/watch?v=qsXHcwe3krw, ...\n",
      "1  ENTP  ['I'm finding the lack of me in these posts ve...\n",
      "2  INTP  ['Good one  _____   https://www.youtube.com/wa...\n",
      "3  INTJ  ['Dear INTP,   I enjoyed our conversation the ...\n",
      "4  ENTJ  ['You're fired., That's another silly misconce...\n"
     ]
    }
   ],
   "source": [
    "# Split the data at |||\n",
    "for i in range(len(data.posts)):\n",
    "    posts = data.posts[i]\n",
    "    data.posts[i] = posts.split('|||')\n",
    "    \n",
    "print(data.head())"
   ]
  },
  {
   "cell_type": "code",
   "execution_count": 9,
   "metadata": {},
   "outputs": [
    {
     "name": "stderr",
     "output_type": "stream",
     "text": [
      "C:\\Users\\User\\Anaconda2\\envs\\deeplearning\\lib\\site-packages\\ipykernel_launcher.py:14: SettingWithCopyWarning: \n",
      "A value is trying to be set on a copy of a slice from a DataFrame\n",
      "\n",
      "See the caveats in the documentation: http://pandas.pydata.org/pandas-docs/stable/indexing.html#indexing-view-versus-copy\n",
      "  \n"
     ]
    },
    {
     "name": "stdout",
     "output_type": "stream",
     "text": [
      "   type                                              posts  link_count\n",
      "0  INFJ  ['link, link, enfp and intj moments  link  spo...          24\n",
      "1  ENTP  ['I'm finding the lack of me in these posts ve...           9\n",
      "2  INTP  ['Good one  _____   link, Of course, to which ...           5\n",
      "3  INTJ  ['Dear INTP,   I enjoyed our conversation the ...           2\n",
      "4  ENTJ  ['You're fired., That's another silly misconce...           6\n"
     ]
    }
   ],
   "source": [
    "import re\n",
    "    \n",
    "pattern = re.compile('http[s]?://(?:[a-zA-Z]|[0-9]|[$-_@.&+]|[!*\\\\(\\\\),]|(?:%[0-9a-fA-F][0-9a-fA-F]))+')\n",
    "data['link_count'] = 0\n",
    "df_links_list = []\n",
    "\n",
    "for i in range(len(data['posts'])):\n",
    "    cumulative_count = 0\n",
    "    for j in range(len(data.posts[i])): \n",
    "        data.posts[i][j], count = pattern.subn('link', data.posts[i][j])\n",
    "       # df_links_list.append(count)\n",
    "        cumulative_count += count\n",
    "        \n",
    "    data['link_count'][i] = cumulative_count\n",
    "            \n",
    "print(data.head())\n",
    "#print(len(df_links_list))"
   ]
  },
  {
   "cell_type": "code",
   "execution_count": 10,
   "metadata": {},
   "outputs": [],
   "source": [
    "import spacy\n",
    "\n",
    "nlp = spacy.load('en_core_web_md')"
   ]
  },
  {
   "cell_type": "code",
   "execution_count": null,
   "metadata": {},
   "outputs": [],
   "source": []
  },
  {
   "cell_type": "markdown",
   "metadata": {},
   "source": [
    "Preprocessing the data includes looping through each post from each person and separating them into their 50 statements at the |||. Then remove the links and keep count for data visualizations later. Take the MBTI type and break it into 0/1 for I/E, S/N, F/T, and J/P respectively so we can predict individual features and functions of personality."
   ]
  },
  {
   "cell_type": "code",
   "execution_count": 11,
   "metadata": {},
   "outputs": [
    {
     "name": "stderr",
     "output_type": "stream",
     "text": [
      "C:\\Users\\User\\Anaconda2\\envs\\deeplearning\\lib\\site-packages\\ipykernel_launcher.py:13: SettingWithCopyWarning: \n",
      "A value is trying to be set on a copy of a slice from a DataFrame\n",
      "\n",
      "See the caveats in the documentation: http://pandas.pydata.org/pandas-docs/stable/indexing.html#indexing-view-versus-copy\n",
      "  del sys.path[0]\n"
     ]
    },
    {
     "name": "stdout",
     "output_type": "stream",
     "text": [
      "0.0\n"
     ]
    },
    {
     "name": "stderr",
     "output_type": "stream",
     "text": [
      "C:\\Users\\User\\Anaconda2\\envs\\deeplearning\\lib\\site-packages\\ipykernel_launcher.py:11: SettingWithCopyWarning: \n",
      "A value is trying to be set on a copy of a slice from a DataFrame\n",
      "\n",
      "See the caveats in the documentation: http://pandas.pydata.org/pandas-docs/stable/indexing.html#indexing-view-versus-copy\n",
      "  # This is added back by InteractiveShellApp.init_path()\n",
      "C:\\Users\\User\\Anaconda2\\envs\\deeplearning\\lib\\site-packages\\ipykernel_launcher.py:15: SettingWithCopyWarning: \n",
      "A value is trying to be set on a copy of a slice from a DataFrame\n",
      "\n",
      "See the caveats in the documentation: http://pandas.pydata.org/pandas-docs/stable/indexing.html#indexing-view-versus-copy\n",
      "  from ipykernel import kernelapp as app\n",
      "C:\\Users\\User\\Anaconda2\\envs\\deeplearning\\lib\\site-packages\\ipykernel_launcher.py:17: SettingWithCopyWarning: \n",
      "A value is trying to be set on a copy of a slice from a DataFrame\n",
      "\n",
      "See the caveats in the documentation: http://pandas.pydata.org/pandas-docs/stable/indexing.html#indexing-view-versus-copy\n"
     ]
    },
    {
     "name": "stdout",
     "output_type": "stream",
     "text": [
      "0.11527377521613832\n",
      "0.23054755043227665\n",
      "0.345821325648415\n",
      "0.4610951008645533\n",
      "0.5763688760806917\n",
      "0.69164265129683\n",
      "0.8069164265129684\n",
      "0.9221902017291066\n",
      "      type                                              posts  link_count  e  \\\n",
      "8670  ISFP  ['link, IxFP just because I always think of ca...           7  0   \n",
      "8671  ENFP  ['So...if this thread already exists someplace...           2  1   \n",
      "8672  INTP  ['So many questions when i do these things.  I...           2  0   \n",
      "8673  INFP  ['I am very conflicted right now when it comes...           0  0   \n",
      "8674  INFP  ['It has been too long since I have been on pe...           3  0   \n",
      "\n",
      "      n  t  p  \n",
      "8670  0  0  1  \n",
      "8671  1  0  1  \n",
      "8672  1  1  1  \n",
      "8673  1  0  1  \n",
      "8674  1  0  1  \n"
     ]
    }
   ],
   "source": [
    "word_vectors = []\n",
    "vector_norms = []\n",
    "data['e'] = 0\n",
    "data['n'] = 0\n",
    "data['t'] = 0\n",
    "data['p'] = 0\n",
    "    \n",
    "for i in range(len(data.type)):\n",
    "    persons_comments = \"\"\n",
    "    if data.type[i][0] == 'E':\n",
    "        data['e'][i] = 1\n",
    "    if data.type[i][1] == 'N':\n",
    "        data['n'][i] = 1\n",
    "    if data.type[i][2] == 'T':\n",
    "        data['t'][i] = 1\n",
    "    if data.type[i][3] == 'P':\n",
    "        data['p'][i] = 1\n",
    "    for post in data.posts[i]:\n",
    "        persons_comments += post + \" \"\n",
    "    doc = nlp(persons_comments)\n",
    "    word_vectors.append(doc.vector)\n",
    "    vector_norms.append(doc.vector_norm)\n",
    "    if i%1000 == 0:\n",
    "        print(float(i)/8675.)\n",
    "\n",
    "print(data.tail())"
   ]
  },
  {
   "cell_type": "markdown",
   "metadata": {},
   "source": [
    "Below I can't seem to figure out how to get higher dimensional vectors to be the same shape.\n",
    "\n",
    "If not just get an entire vector representation of all the posts, which are an average of the tokens in the corpus. The shape of the doc.vector is (300,) which causes dimensionality problems. \n",
    "\n",
    "Tensors (doc.tensor) come in (x, 384) where x varies from roughly 600-1500."
   ]
  },
  {
   "cell_type": "code",
   "execution_count": 106,
   "metadata": {},
   "outputs": [
    {
     "name": "stdout",
     "output_type": "stream",
     "text": [
      "[\"'link\", 'link', 'enfp and intj moments  link  sportscenter not top ten plays  link  pranks', 'What\n",
      "(31, 384)\n",
      "[\"'I'm finding the lack of me in these posts very alarming.\", \"Sex can be boring if it's in the same\n"
     ]
    },
    {
     "ename": "IndexError",
     "evalue": "list index out of range",
     "output_type": "error",
     "traceback": [
      "\u001b[1;31m---------------------------------------------------------------------------\u001b[0m",
      "\u001b[1;31mIndexError\u001b[0m                                Traceback (most recent call last)",
      "\u001b[1;32m<ipython-input-106-349571e9cfe7>\u001b[0m in \u001b[0;36m<module>\u001b[1;34m()\u001b[0m\n\u001b[0;32m     11\u001b[0m     \u001b[0mdoc\u001b[0m \u001b[1;33m=\u001b[0m \u001b[0mnlp\u001b[0m\u001b[1;33m(\u001b[0m\u001b[0mdata\u001b[0m\u001b[1;33m.\u001b[0m\u001b[0mposts\u001b[0m\u001b[1;33m[\u001b[0m\u001b[0mi\u001b[0m\u001b[1;33m]\u001b[0m\u001b[1;33m[\u001b[0m\u001b[1;33m:\u001b[0m\u001b[1;36m100\u001b[0m\u001b[1;33m]\u001b[0m\u001b[1;33m)\u001b[0m\u001b[1;33m\u001b[0m\u001b[0m\n\u001b[0;32m     12\u001b[0m     \u001b[0mpersons_hd_vectors\u001b[0m\u001b[1;33m.\u001b[0m\u001b[0mappend\u001b[0m\u001b[1;33m(\u001b[0m\u001b[0mdoc\u001b[0m\u001b[1;33m.\u001b[0m\u001b[0mtensor\u001b[0m\u001b[1;33m)\u001b[0m\u001b[1;33m\u001b[0m\u001b[0m\n\u001b[1;32m---> 13\u001b[1;33m     \u001b[0mprint\u001b[0m\u001b[1;33m(\u001b[0m\u001b[0mpersons_hd_vectors\u001b[0m\u001b[1;33m[\u001b[0m\u001b[0mi\u001b[0m\u001b[1;33m]\u001b[0m\u001b[1;33m.\u001b[0m\u001b[0mshape\u001b[0m\u001b[1;33m)\u001b[0m\u001b[1;33m\u001b[0m\u001b[0m\n\u001b[0m",
      "\u001b[1;31mIndexError\u001b[0m: list index out of range"
     ]
    }
   ],
   "source": [
    "high_dim_vectors = []\n",
    "\n",
    "for i in range(10):\n",
    "    persons_hd_vectors = []\n",
    "    persons_comments = \"\"\n",
    "    #    print(data.posts[i])\n",
    "    #for post in data.posts[i]:\n",
    "    #    print(post)\n",
    "    #    persons_comments += post + \" \"\n",
    "    print(data.posts[i][:100])\n",
    "    doc = nlp(data.posts[i][:100])\n",
    "    persons_hd_vectors.append(doc.tensor)\n",
    "    print(persons_hd_vectors[].shape)"
   ]
  },
  {
   "cell_type": "code",
   "execution_count": null,
   "metadata": {},
   "outputs": [],
   "source": []
  },
  {
   "cell_type": "markdown",
   "metadata": {},
   "source": [
    "### Implementation\n",
    "\n",
    "The process for which metrics, algorithms, and techniques were implemented with the given datasets or input data has been thoroughly documented. Complications that occurred during the coding process are discussed.\n",
    "\n",
    "\n",
    "\n"
   ]
  },
  {
   "cell_type": "markdown",
   "metadata": {},
   "source": [
    "### Refinement\n",
    "\n",
    "The process of improving upon the algorithms and techniques used is clearly documented. Both the initial and final solutions are reported, along with intermediate solutions, if necessary.\n",
    "\n",
    "\n",
    "\n"
   ]
  },
  {
   "cell_type": "markdown",
   "metadata": {},
   "source": [
    "# Results"
   ]
  },
  {
   "cell_type": "markdown",
   "metadata": {},
   "source": [
    "### Model Evaluation and Validation\n",
    "\n",
    "The final model’s qualities — such as parameters — are evaluated in detail. Some type of analysis is used to validate the robustness of the model’s solution.\n",
    "\n",
    "\n"
   ]
  },
  {
   "cell_type": "markdown",
   "metadata": {},
   "source": [
    "### Justification\n",
    "\n",
    "The final results are compared to the benchmark result or threshold with some type of statistical analysis. Justification is made as to whether the final model and solution is significant enough to have adequately solved the problem.\n",
    "\n",
    "Although the final model performed much better than the benchmark, I would not say this solution adequately solves the problem of developing a tool to help understand people's personality through their language. "
   ]
  },
  {
   "cell_type": "code",
   "execution_count": 12,
   "metadata": {},
   "outputs": [],
   "source": [
    "data.to_csv('preprocessed_data.csv')"
   ]
  },
  {
   "cell_type": "code",
   "execution_count": 15,
   "metadata": {
    "scrolled": true
   },
   "outputs": [],
   "source": [
    "vectors_dict = { \"vector\"  : word_vectors,\n",
    "            \"vector_norm\"  : vector_norms\n",
    "               }"
   ]
  },
  {
   "cell_type": "code",
   "execution_count": 16,
   "metadata": {},
   "outputs": [],
   "source": [
    "vect_df = pd.DataFrame.from_dict(vectors_dict)"
   ]
  },
  {
   "cell_type": "code",
   "execution_count": 18,
   "metadata": {},
   "outputs": [],
   "source": [
    "vect_df.to_csv('spaCy_word_vectors.csv')"
   ]
  },
  {
   "cell_type": "code",
   "execution_count": 19,
   "metadata": {},
   "outputs": [],
   "source": [
    "data = pd.read_csv('preprocessed_data.csv')\n",
    "# These are the word vectors that represent the text from all the posts of one person, index's correspond with data.index\n",
    "# Also vector_norms which are floats that I haven't been able to figure out how to use yet \n",
    "vect_df = pd.read_csv('spaCy_word_vectors.csv')"
   ]
  },
  {
   "cell_type": "code",
   "execution_count": 20,
   "metadata": {},
   "outputs": [],
   "source": [
    "#http://scikit-learn.org/stable/modules/generated/sklearn.model_selection.ShuffleSplit.html\n",
    "#scikit-learn.org/stable/modules/generated/sklearn.model_selection.train_test_split.html\n",
    "from sklearn.model_selection import ShuffleSplit\n",
    "from sklearn.model_selection import train_test_split\n",
    "from sklearn.linear_model import LogisticRegression\n",
    "from sklearn.ensemble import RandomForestClassifier, VotingClassifier\n",
    "from sklearn import metrics\n",
    "from sklearn import svm\n",
    "from sklearn.neural_network import MLPClassifier\n",
    "from sklearn.metrics import accuracy_score"
   ]
  },
  {
   "cell_type": "code",
   "execution_count": 110,
   "metadata": {},
   "outputs": [],
   "source": [
    "# sometimes I don't do type. Instead, I'll predict data['t'] and calculate AUC, clearly IN are bias in this data set\n",
    "X_train, X_test, y_train, y_test = train_test_split(word_vectors, data.type, test_size=0.25, random_state=42, shuffle=True)"
   ]
  },
  {
   "cell_type": "code",
   "execution_count": 111,
   "metadata": {},
   "outputs": [],
   "source": [
    "log_clf = LogisticRegression()\n",
    "rnd_clf = RandomForestClassifier()\n",
    "nn_clf = MLPClassifier()"
   ]
  },
  {
   "cell_type": "code",
   "execution_count": 112,
   "metadata": {
    "scrolled": true
   },
   "outputs": [
    {
     "name": "stdout",
     "output_type": "stream",
     "text": [
      "LogisticRegression 0.3619179345320424\n",
      "RandomForestClassifier 0.24343015214384509\n",
      "MLPClassifier 0.47210696173351774\n"
     ]
    }
   ],
   "source": [
    "#X_test_train, X_test_t, y_test_train, y_test_t = train_test_split(X_test, y_test, test_size=0.5, random_state=42, shuffle=True)\n",
    "#print(X_train.shape)\n",
    "for clf in (log_clf, rnd_clf, nn_clf): #svm_clf,\n",
    "    clf.fit(X_train, y_train)\n",
    "    y_pred = clf.predict(X_test)    \n",
    "    print(clf.__class__.__name__, accuracy_score(y_test, y_pred))\n",
    "    #fpr, tpr, thresholds = metrics.roc_curve(y_test, y_pred, pos_label=1)\n",
    "    #auc = metrics.auc(fpr, tpr)\n",
    "    #print(auc)"
   ]
  },
  {
   "cell_type": "code",
   "execution_count": 113,
   "metadata": {},
   "outputs": [
    {
     "name": "stdout",
     "output_type": "stream",
     "text": [
      "['INTP']\n"
     ]
    }
   ],
   "source": [
    "doc = nlp('Preprocessing the data will be the largest part of the technique for predicting the personality of a person based on their text. There are separating characters (|||) that need to be removed, links that will not show up in language and instead will be converted simply into the word link. As mentioned in the Data Exploration section above, using the bag of words technique to create word vectors of each personality types language. Using spaCys medium web language library to create relative frequencies of common language used online, the result will be a model of language use specific to each personality feature. In addition, spaCy can find the similarities of new sentences to each corresponding personality and even between personalities. This is a cool exploratory visualization for later. The classifier is a Convolutional Neural Network, that will run over the language and assign the probability for each class based on their word vector representations and similarities to each personality type. Since the data is quite skewed not only from the population but especially not distributed evenly throughout the personality types, creating a model that will most accurately predict the personality type will likely result in simply guessing the most likely personality features, in this case Introverted and Intuitive (IN). Tuning the model based on the AUC and series of 4 binary classifications (which coincidentally also makes more sense in the study of personality) allows to create the most potentially useful prediction model and avoid overfitting. Calculating AUC not only tries to get the most predictions right, but tries to ensure that false positives and false negatives don\\'t crop up. In other words, since the accuracy metric would tend to create a prediction where everyone is IN__, the AUC metric will catch that the model systematically falsely assigns Extroverts the Introvert label and will look for patterns to help correct it.')\n",
    "tester = doc.vector.reshape(1, -1)\n",
    "prediction = nn_clf.predict(tester)\n",
    "print(prediction)"
   ]
  },
  {
   "cell_type": "markdown",
   "metadata": {},
   "source": [
    "I'm an ENTP and considering like 70+% of the data are introverted, pretty good guess."
   ]
  },
  {
   "cell_type": "code",
   "execution_count": 114,
   "metadata": {},
   "outputs": [
    {
     "ename": "ValueError",
     "evalue": "invalid literal for int() with base 10: 'ENFP'",
     "output_type": "error",
     "traceback": [
      "\u001b[1;31m---------------------------------------------------------------------------\u001b[0m",
      "\u001b[1;31mValueError\u001b[0m                                Traceback (most recent call last)",
      "\u001b[1;32m<ipython-input-114-cdf24b9156e2>\u001b[0m in \u001b[0;36m<module>\u001b[1;34m()\u001b[0m\n\u001b[0;32m      4\u001b[0m \u001b[1;31m# one-hot encode the labels\u001b[0m\u001b[1;33m\u001b[0m\u001b[1;33m\u001b[0m\u001b[0m\n\u001b[0;32m      5\u001b[0m \u001b[0mnum_classes\u001b[0m \u001b[1;33m=\u001b[0m \u001b[0mlen\u001b[0m\u001b[1;33m(\u001b[0m\u001b[0mnp\u001b[0m\u001b[1;33m.\u001b[0m\u001b[0munique\u001b[0m\u001b[1;33m(\u001b[0m\u001b[0my_train\u001b[0m\u001b[1;33m)\u001b[0m\u001b[1;33m)\u001b[0m\u001b[1;33m\u001b[0m\u001b[0m\n\u001b[1;32m----> 6\u001b[1;33m \u001b[0my_train\u001b[0m \u001b[1;33m=\u001b[0m \u001b[0mkeras\u001b[0m\u001b[1;33m.\u001b[0m\u001b[0mutils\u001b[0m\u001b[1;33m.\u001b[0m\u001b[0mto_categorical\u001b[0m\u001b[1;33m(\u001b[0m\u001b[0my_train\u001b[0m\u001b[1;33m,\u001b[0m \u001b[0mnum_classes\u001b[0m\u001b[1;33m)\u001b[0m\u001b[1;33m\u001b[0m\u001b[0m\n\u001b[0m\u001b[0;32m      7\u001b[0m \u001b[0my_test\u001b[0m \u001b[1;33m=\u001b[0m \u001b[0mkeras\u001b[0m\u001b[1;33m.\u001b[0m\u001b[0mutils\u001b[0m\u001b[1;33m.\u001b[0m\u001b[0mto_categorical\u001b[0m\u001b[1;33m(\u001b[0m\u001b[0my_test\u001b[0m\u001b[1;33m,\u001b[0m \u001b[0mnum_classes\u001b[0m\u001b[1;33m)\u001b[0m\u001b[1;33m\u001b[0m\u001b[0m\n\u001b[0;32m      8\u001b[0m \u001b[1;33m\u001b[0m\u001b[0m\n",
      "\u001b[1;32m~\\Anaconda2\\envs\\deeplearning\\lib\\site-packages\\keras\\utils\\np_utils.py\u001b[0m in \u001b[0;36mto_categorical\u001b[1;34m(y, num_classes)\u001b[0m\n\u001b[0;32m     20\u001b[0m         \u001b[0mA\u001b[0m \u001b[0mbinary\u001b[0m \u001b[0mmatrix\u001b[0m \u001b[0mrepresentation\u001b[0m \u001b[0mof\u001b[0m \u001b[0mthe\u001b[0m \u001b[0minput\u001b[0m\u001b[1;33m.\u001b[0m\u001b[1;33m\u001b[0m\u001b[0m\n\u001b[0;32m     21\u001b[0m     \"\"\"\n\u001b[1;32m---> 22\u001b[1;33m     \u001b[0my\u001b[0m \u001b[1;33m=\u001b[0m \u001b[0mnp\u001b[0m\u001b[1;33m.\u001b[0m\u001b[0marray\u001b[0m\u001b[1;33m(\u001b[0m\u001b[0my\u001b[0m\u001b[1;33m,\u001b[0m \u001b[0mdtype\u001b[0m\u001b[1;33m=\u001b[0m\u001b[1;34m'int'\u001b[0m\u001b[1;33m)\u001b[0m\u001b[1;33m\u001b[0m\u001b[0m\n\u001b[0m\u001b[0;32m     23\u001b[0m     \u001b[0minput_shape\u001b[0m \u001b[1;33m=\u001b[0m \u001b[0my\u001b[0m\u001b[1;33m.\u001b[0m\u001b[0mshape\u001b[0m\u001b[1;33m\u001b[0m\u001b[0m\n\u001b[0;32m     24\u001b[0m     \u001b[1;32mif\u001b[0m \u001b[0minput_shape\u001b[0m \u001b[1;32mand\u001b[0m \u001b[0minput_shape\u001b[0m\u001b[1;33m[\u001b[0m\u001b[1;33m-\u001b[0m\u001b[1;36m1\u001b[0m\u001b[1;33m]\u001b[0m \u001b[1;33m==\u001b[0m \u001b[1;36m1\u001b[0m \u001b[1;32mand\u001b[0m \u001b[0mlen\u001b[0m\u001b[1;33m(\u001b[0m\u001b[0minput_shape\u001b[0m\u001b[1;33m)\u001b[0m \u001b[1;33m>\u001b[0m \u001b[1;36m1\u001b[0m\u001b[1;33m:\u001b[0m\u001b[1;33m\u001b[0m\u001b[0m\n",
      "\u001b[1;31mValueError\u001b[0m: invalid literal for int() with base 10: 'ENFP'"
     ]
    }
   ],
   "source": [
    "import keras\n",
    "from keras.utils import np_utils\n",
    "\n",
    "# one-hot encode the labels\n",
    "num_classes = len(np.unique(y_train))\n",
    "y_train = keras.utils.to_categorical(y_train, num_classes)\n",
    "y_test = keras.utils.to_categorical(y_test, num_classes)\n",
    "\n",
    "# break training set into training and validation sets\n",
    "(x_train, x_valid) = X_train[2000:], X_train[:2000]\n",
    "(y_train, y_valid) = y_train[2000:], y_train[:2000]\n",
    "\n",
    "# print shape of training set\n",
    "#print('X_train shape:', X_train.shape)\n",
    "\n",
    "# print number of training, validation, and test images\n",
    "#print(x_train.shape[0], 'train samples')\n",
    "#print(x_test.shape[0], 'test samples')\n",
    "#print(x_valid.shape[0], 'validation samples')"
   ]
  },
  {
   "cell_type": "code",
   "execution_count": 119,
   "metadata": {},
   "outputs": [
    {
     "name": "stdout",
     "output_type": "stream",
     "text": [
      "_________________________________________________________________\n",
      "Layer (type)                 Output Shape              Param #   \n",
      "=================================================================\n",
      "embedding_3 (Embedding)      (None, None, 128)         2560000   \n",
      "_________________________________________________________________\n",
      "lstm_3 (LSTM)                (None, 128)               131584    \n",
      "_________________________________________________________________\n",
      "dense_9 (Dense)              (None, 1)                 129       \n",
      "=================================================================\n",
      "Total params: 2,691,713\n",
      "Trainable params: 2,691,713\n",
      "Non-trainable params: 0\n",
      "_________________________________________________________________\n"
     ]
    }
   ],
   "source": [
    "from keras.layers import Embedding,LSTM\n",
    "model3 = Sequential()\n",
    "model3.add(Embedding(20000,300))  #Don't understand this part. What am I trying to input here?\n",
    "model3.add(LSTM(128,dropout=0.2,recurrent_dropout=0.2))\n",
    "model3.add(Dense(1,activation='sigmoid'))\n",
    "\n",
    "model3.summary()"
   ]
  },
  {
   "cell_type": "code",
   "execution_count": 107,
   "metadata": {},
   "outputs": [
    {
     "name": "stdout",
     "output_type": "stream",
     "text": [
      "_________________________________________________________________\n",
      "Layer (type)                 Output Shape              Param #   \n",
      "=================================================================\n",
      "conv2d_20 (Conv2D)           (None, 50, 299, 16)       80        \n",
      "_________________________________________________________________\n",
      "max_pooling2d_16 (MaxPooling (None, 25, 149, 16)       0         \n",
      "_________________________________________________________________\n",
      "conv2d_21 (Conv2D)           (None, 24, 148, 32)       2080      \n",
      "_________________________________________________________________\n",
      "max_pooling2d_17 (MaxPooling (None, 12, 74, 32)        0         \n",
      "_________________________________________________________________\n",
      "conv2d_22 (Conv2D)           (None, 11, 73, 64)        8256      \n",
      "_________________________________________________________________\n",
      "max_pooling2d_18 (MaxPooling (None, 5, 36, 64)         0         \n",
      "_________________________________________________________________\n",
      "dropout_6 (Dropout)          (None, 5, 36, 64)         0         \n",
      "_________________________________________________________________\n",
      "global_average_pooling2d_6 ( (None, 64)                0         \n",
      "_________________________________________________________________\n",
      "dense_6 (Dense)              (None, 16)                1040      \n",
      "=================================================================\n",
      "Total params: 11,456\n",
      "Trainable params: 11,456\n",
      "Non-trainable params: 0\n",
      "_________________________________________________________________\n"
     ]
    }
   ],
   "source": [
    "from keras.layers import Conv2D, MaxPooling2D, GlobalAveragePooling2D, Dropout, Flatten, Dense\n",
    "from keras.models import Sequential\n",
    "\n",
    "model = Sequential()\n",
    "\n",
    "### TODO: Define your architecture.\n",
    "model.add(Conv2D(filters=16, kernel_size=2, activation ='relu', input_shape=(51, 300,1)))\n",
    "model.add(MaxPooling2D(pool_size=2, strides=2))\n",
    "model.add(Conv2D(filters=32, kernel_size=2, activation ='relu'))\n",
    "model.add(MaxPooling2D(pool_size=2, strides=2))\n",
    "model.add(Conv2D(filters=64, kernel_size=2, activation ='relu'))\n",
    "model.add(MaxPooling2D(pool_size=2, strides=2))\n",
    "model.add(Dropout(0.5))\n",
    "model.add(GlobalAveragePooling2D())\n",
    "model.add(Dense(16, activation='softmax')) #softmax #tanh\n",
    "\n",
    "model.summary()"
   ]
  },
  {
   "cell_type": "code",
   "execution_count": 108,
   "metadata": {},
   "outputs": [],
   "source": [
    "# compile the model\n",
    "model.compile(loss='categorical_crossentropy', optimizer='rmsprop', metrics=['accuracy'])"
   ]
  },
  {
   "cell_type": "code",
   "execution_count": null,
   "metadata": {
    "scrolled": false
   },
   "outputs": [],
   "source": [
    "from keras.callbacks import ModelCheckpoint\n",
    "\n",
    "#train the model\n",
    "checkpointer = ModelCheckpoint(filepath='CNN.weights.best.hdf5', verbose=1, save_best_only=True)\n",
    "hist = model.fit(x_train, y_train, batch_size = 32, epochs = 20, validation=(x_valid, y_valid), callbacks=[checkpointer], verbose=2, shuffle=True)"
   ]
  },
  {
   "cell_type": "code",
   "execution_count": null,
   "metadata": {},
   "outputs": [],
   "source": [
    "# load the model weights that had the best validation score\n",
    "model.load_weights('CNN.weights.best.hdf5')aaaa"
   ]
  },
  {
   "cell_type": "code",
   "execution_count": 75,
   "metadata": {},
   "outputs": [
    {
     "ename": "NameError",
     "evalue": "name 'x_test' is not defined",
     "output_type": "error",
     "traceback": [
      "\u001b[1;31m---------------------------------------------------------------------------\u001b[0m",
      "\u001b[1;31mNameError\u001b[0m                                 Traceback (most recent call last)",
      "\u001b[1;32m<ipython-input-75-bf58ef6d4d42>\u001b[0m in \u001b[0;36m<module>\u001b[1;34m()\u001b[0m\n\u001b[1;32m----> 1\u001b[1;33m \u001b[0mscore\u001b[0m \u001b[1;33m=\u001b[0m \u001b[0mmodel\u001b[0m\u001b[1;33m.\u001b[0m\u001b[0mevaluate\u001b[0m\u001b[1;33m(\u001b[0m\u001b[0mx_test\u001b[0m\u001b[1;33m,\u001b[0m \u001b[0my_test\u001b[0m\u001b[1;33m,\u001b[0m \u001b[0mverbose\u001b[0m \u001b[1;33m=\u001b[0m \u001b[1;36m0\u001b[0m\u001b[1;33m)\u001b[0m\u001b[1;33m\u001b[0m\u001b[0m\n\u001b[0m\u001b[0;32m      2\u001b[0m \u001b[0mprint\u001b[0m\u001b[1;33m(\u001b[0m\u001b[1;34m'\\nTest accuracy: '\u001b[0m\u001b[1;33m,\u001b[0m \u001b[0mscore\u001b[0m\u001b[1;33m[\u001b[0m\u001b[1;36m1\u001b[0m\u001b[1;33m]\u001b[0m\u001b[1;33m)\u001b[0m\u001b[1;33m\u001b[0m\u001b[0m\n",
      "\u001b[1;31mNameError\u001b[0m: name 'x_test' is not defined"
     ]
    }
   ],
   "source": [
    "score = model.evaluate(x_test, y_test, verbose = 0)\n",
    "print('\\nTest accuracy: ', score[1])"
   ]
  },
  {
   "cell_type": "markdown",
   "metadata": {},
   "source": [
    "Anything Bbelow is just code from me messing around too much and getting off task."
   ]
  },
  {
   "cell_type": "code",
   "execution_count": null,
   "metadata": {},
   "outputs": [],
   "source": [
    "EN_word_vector = []\n",
    "\n",
    "extroverts = data.loc[data['e'] == 1]\n",
    "introverts = data.loc[data['e'] == 0]\n",
    "\n",
    "intuitive_introverts = introverts.loc[data['n'] == 1]\n",
    "intuitive_extroverts = extroverts.loc[data['n'] == 1]\n",
    "\n",
    "for i in intuitive_extroverts.index:\n",
    "    persons_comments = \"\"\n",
    "    for post in intuitive_extroverts.posts[i]:\n",
    "        persons_comments += post + \". \"\n",
    "    doc = nlp(persons_comments)\n",
    "    EN_word_vector.append(doc.vector)\n",
    "    if i%500 == 0:\n",
    "        print(i)\n",
    "        \n",
    "from sklearn.model_selection import train_test_split\n",
    "\n",
    "X_train, X_test, y_train, y_test = train_test_split(EN_word_vector, intuitive_extroverts['t'], test_size=0.25, random_state=42, shuffle=True)\n",
    "\n",
    "from sklearn.linear_model import LogisticRegression\n",
    "from sklearn.ensemble import RandomForestClassifier, VotingClassifier\n",
    "from sklearn import metrics\n",
    "from sklearn import svm\n",
    "from sklearn.neural_network import MLPClassifier\n",
    "\n",
    "log_clf = LogisticRegression()\n",
    "rnd_clf = RandomForestClassifier()\n",
    "nn_clf = MLPClassifier()\n",
    "\n",
    "from sklearn.metrics import accuracy_score\n",
    "\n",
    "for clf in (log_clf, rnd_clf, nn_clf): #svm_clf,\n",
    "    clf.fit(X_train, y_train)\n",
    "    y_pred = clf.predict(X_test)\n",
    "    print(clf.__class__.__name__, accuracy_score(y_test, y_pred))\n",
    "    fpr, tpr, thresholds = metrics.roc_curve(y_test, y_pred, pos_label=1)\n",
    "    auc = metrics.auc(fpr, tpr)\n",
    "    print(auc)\n",
    "    \n",
    "    \n",
    "IN_word_vector = []\n",
    "\n",
    "for i in intuitive_introverts.index:\n",
    "    persons_comments = \"\"\n",
    "    for post in intuitive_introverts.posts[i]:\n",
    "        persons_comments += post + \". \"\n",
    "    doc = nlp(persons_comments)\n",
    "    IN_word_vector.append(doc.vector)\n",
    "    if i%200 == 0:\n",
    "        print(i)\n",
    "        \n",
    "X_train, X_test, y_train, y_test = train_test_split(IN_word_vector, intuitive_introverts['t'], test_size=0.25, random_state=42, shuffle=True)\n",
    "\n",
    "log_clf = LogisticRegression()\n",
    "rnd_clf = RandomForestClassifier()\n",
    "nn_clf = MLPClassifier()\n",
    "\n",
    "from sklearn.metrics import accuracy_score\n",
    "\n",
    "for clf in (log_clf, rnd_clf, nn_clf): #svm_clf,\n",
    "    clf.fit(X_train, y_train)\n",
    "    y_pred = clf.predict(X_test)\n",
    "    print(clf.__class__.__name__, accuracy_score(y_test, y_pred))\n",
    "    fpr, tpr, thresholds = metrics.roc_curve(y_test, y_pred, pos_label=1)\n",
    "    auc = metrics.auc(fpr, tpr)\n",
    "    print(auc)\n",
    "\n",
    "for clf in (log_clf, rnd_clf, nn_clf): #svm_clf,\n",
    "    y_pred = clf.predict(E_word_vector)\n",
    "    print(clf.__class__.__name__, accuracy_score(extroverts['t'], y_pred))\n",
    "    fpr, tpr, thresholds = metrics.roc_curve(extroverts['t'], y_pred, pos_label=1)\n",
    "    auc = metrics.auc(fpr, tpr)\n",
    "    print(auc)\n",
    "    \n",
    "    \n",
    "E_word_vector = []\n",
    "for i in extroverts.index:\n",
    "    persons_comments = \"\"\n",
    "    for post in extroverts.posts[i]:\n",
    "        persons_comments += post + \". \"\n",
    "    doc = nlp(persons_comments)\n",
    "    E_word_vector.append(doc.vector)\n",
    "    if i%500 == 0:\n",
    "        print(i)\n",
    "        \n",
    "y_pred = nn_clf.predict(E_word_vector)\n",
    "print(clf.__class__.__name__, accuracy_score(extroverts['p'], y_pred))\n",
    "fpr, tpr, thresholds = metrics.roc_curve(extroverts['p'], y_pred, pos_label=1)\n",
    "auc = metrics.auc(fpr, tpr)\n",
    "print(auc)"
   ]
  },
  {
   "cell_type": "markdown",
   "metadata": {},
   "source": [
    "# V. Conclusion\n",
    "\n",
    "### Free Form Visualization\n",
    "\n",
    "A visualization has been provided that emphasizes an important quality about the project with thorough discussion. Visual cues are clearly defined."
   ]
  },
  {
   "cell_type": "code",
   "execution_count": null,
   "metadata": {},
   "outputs": [],
   "source": []
  },
  {
   "cell_type": "markdown",
   "metadata": {},
   "source": [
    "### Reflection\n",
    "\n",
    "Student adequately summarizes the end-to-end problem solution and discusses one or two particular aspects of the project they found interesting or difficult.\n"
   ]
  },
  {
   "cell_type": "markdown",
   "metadata": {},
   "source": [
    "### Improvement\n",
    "\n",
    "\t\n",
    "Discussion is made as to how one aspect of the implementation could be improved. Potential solutions resulting from these improvements are considered and compared/contrasted to the current solution."
   ]
  },
  {
   "cell_type": "code",
   "execution_count": null,
   "metadata": {},
   "outputs": [],
   "source": [
    "#X_test_train, X_test_t, y_test_train, y_test_t = train_test_split(X_test, y_test, test_size=0.5, random_state=42, shuffle=True)\n",
    "\n",
    "for clf in (log_clf, rnd_clf, nn_clf): #svm_clf,\n",
    "    clf.fit(X_train, y_train)\n",
    "    y_pred = clf.predict(X_test_train)    \n",
    "    print(clf.__class__.__name__, accuracy_score(y_test_train, y_pred))\n",
    "    fpr, tpr, thresholds = metrics.roc_curve(y_test_train, y_pred, pos_label=1)\n",
    "    auc = metrics.auc(fpr, tpr)\n",
    "    print(auc)\n",
    "\n",
    "nn_clf_2 = MLPClassifier()\n",
    "#train_np = np.array(X_test_train)\n",
    "#print(len(train_np))\n",
    "#guess = y_pred.tolist()\n",
    "\n",
    "print(X_test_train[0])\n",
    "\n",
    "array = y_pred.reshape(-1, 1)\n",
    "df = pd.DataFrame ({\n",
    "    'vector': np.array(X_test_train,dtype='float32'),\n",
    "    'pred'  : array\n",
    "})\n",
    "\n",
    "#print(X_test_train[:2])\n",
    "#trainer = zip(X_test_train, guess)\n",
    "#xtestrain = np.ndarray(list(trainer))\n",
    "#print(xtestrain)\n",
    "nn_clf_2.fit(array, y_test_train)\n",
    "y_pred_2 = nn_clf_2.predict(df)\n",
    "print(clf.__class__.__name__, accuracy_score(y_test_t, y_pred_2))\n",
    "fpr, tpr, thresholds = metrics.roc_curve(y_test_train, y_pred_2, pos_label=1)\n",
    "auc = metrics.auc(fpr, tpr)\n",
    "print(auc)"
   ]
  },
  {
   "cell_type": "code",
   "execution_count": null,
   "metadata": {},
   "outputs": [],
   "source": [
    "df_vector_list = []\n",
    "df_label_list = []\n",
    "df_vector_norm_list = []\n",
    "df_post_list = []\n",
    "df_index_list = []\n",
    "e_list = []\n",
    "n_list = []\n",
    "t_list = [] \n",
    "p_list = []\n",
    "word_vectors = []\n",
    "vector_norms = []\n",
    "\n",
    "\n",
    "for i in range(len(data.type)):\n",
    "    # go through each person in the dataframe, with a fresh list of vectors for \n",
    "    #persons_comments = \"\"\n",
    "    #list_of_vectors = []\n",
    "    #list_of_vector_norms = []\n",
    "    persons_comments = \"\"\n",
    "    for post in data.posts[i]:\n",
    "        \n",
    "    label = [data.iloc[i]['e'], data.iloc[i]['n'], data.iloc[i]['t'], data.iloc[i]['p']]\n",
    "\n",
    "    for post in data.posts[i]:\n",
    "        #persons_comments += post + \". \"\n",
    "        persons_comments += post + \" \"\n",
    "\n",
    "        doc = nlp(post)\n",
    "        df_vector_list.append(doc.vector)\n",
    "        df_vector_norm_list.append(doc.vector_norm)\n",
    "        df_post_list.append(post)\n",
    "        df_index_list.append(i)\n",
    "        df_label_list.append(label)\n",
    "        e_list.append(label[0])\n",
    "        n_list.append(label[1])\n",
    "        t_list.append(label[2]) \n",
    "        p_list.append(label[3])\n",
    "    # after each post has been gone through but before the moving on to the next person\n",
    "        # I want a list of vector norms to append to df vector norm list\n",
    "        # I want a vector describing the whole corpus\n",
    "    #vector.append(doc.vector)\n",
    "    #print(vectors.dtype)\n",
    "    #data['word_vectors'][i] = vectors\n",
    "    doc = nlp(persons_comments)\n",
    "    word_vectors.append(doc.vector)\n",
    "    vector_norms.append(doc.vector_norm)\n",
    "    if i%1000 == 0:\n",
    "        print(float(i)/8675.)if i%500 == 0:\n",
    "        print(i)\n",
    "\n",
    "post_data = { 'user_id' :  df_index_list,\n",
    "              'label'   :  df_label_list,\n",
    "        'word_vector'   :  df_vector_list,\n",
    "        'vector_norm'   :  df_vector_norm_list,\n",
    "             'post'     :  df_post_list,\n",
    "             'links'    :  df_links_list\n",
    "             'e'        :  e_list,\n",
    "             'n'        :  n_list,\n",
    "             't'        :  t_list,\n",
    "             'p'        :  p_list\n",
    "            }\n",
    "post_df = pd.DataFrame.from_dict(post_data)\n",
    "print(post_df.head())"
   ]
  }
 ],
 "metadata": {
  "kernelspec": {
   "display_name": "Python 3",
   "language": "python",
   "name": "python3"
  },
  "language_info": {
   "codemirror_mode": {
    "name": "ipython",
    "version": 3
   },
   "file_extension": ".py",
   "mimetype": "text/x-python",
   "name": "python",
   "nbconvert_exporter": "python",
   "pygments_lexer": "ipython3",
   "version": "3.6.5"
  }
 },
 "nbformat": 4,
 "nbformat_minor": 2
}
